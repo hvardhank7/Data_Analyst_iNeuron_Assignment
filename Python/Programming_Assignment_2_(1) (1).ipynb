{
 "cells": [
  {
   "cell_type": "markdown",
   "id": "08c66ea5",
   "metadata": {
    "id": "08c66ea5"
   },
   "source": [
    "## Programming Assignment_2\n",
    "-------------"
   ]
  },
  {
   "cell_type": "markdown",
   "id": "4e50cf42",
   "metadata": {
    "id": "4e50cf42"
   },
   "source": [
    "### 1. Write a Python program to convert kilometers to miles?\n"
   ]
  },
  {
   "cell_type": "code",
   "execution_count": 1,
   "id": "d0c4f1ab",
   "metadata": {},
   "outputs": [
    {
     "name": "stdout",
     "output_type": "stream",
     "text": [
      "Enter value in kilometers: 20\n",
      "12.42742\n"
     ]
    }
   ],
   "source": [
    "kilometers = float(input(\"Enter value in kilometers: \"))\n",
    "\n",
    "# 1km = 0.621371\n",
    "\n",
    "# converting to miles\n",
    "miles = kilometers * 0.621371\n",
    "print(miles)"
   ]
  },
  {
   "cell_type": "markdown",
   "id": "0df4e6bf",
   "metadata": {
    "id": "0df4e6bf"
   },
   "source": [
    "### 2.Write a Python program to convert Celsius to Fahrenheit?"
   ]
  },
  {
   "cell_type": "code",
   "execution_count": 8,
   "id": "9f708bc6",
   "metadata": {},
   "outputs": [
    {
     "name": "stdout",
     "output_type": "stream",
     "text": [
      "Enter the value37.2\n",
      "37.2 degree Celsius is equal to 98.96000000000001 degree Fahrenheit\n"
     ]
    }
   ],
   "source": [
    "celsius = float(input(\"Enter the value\"))\n",
    "\n",
    "# converting to fahrenheit\n",
    "fahrenheit = (celsius * 1.8) + 32\n",
    "print(f\"{celsius} degree Celsius is equal to {fahrenheit} degree Fahrenheit\")"
   ]
  },
  {
   "cell_type": "markdown",
   "id": "46129b8e",
   "metadata": {
    "id": "46129b8e"
   },
   "source": [
    "### 3. Write a Python program to display calendar?\n"
   ]
  },
  {
   "cell_type": "code",
   "execution_count": 13,
   "id": "1b0f47cc",
   "metadata": {},
   "outputs": [
    {
     "name": "stdout",
     "output_type": "stream",
     "text": [
      "Enter year: 2021\n",
      "Enter month: 10\n",
      " \n",
      "    October 2021\n",
      "Mo Tu We Th Fr Sa Su\n",
      "             1  2  3\n",
      " 4  5  6  7  8  9 10\n",
      "11 12 13 14 15 16 17\n",
      "18 19 20 21 22 23 24\n",
      "25 26 27 28 29 30 31\n",
      "\n"
     ]
    }
   ],
   "source": [
    "import calendar\n",
    "\n",
    "yy = int(input(\"Enter year: \"))\n",
    "mm = int(input(\"Enter month: \"))\n",
    "\n",
    "print(\" \")\n",
    "print(calendar.month(yy, mm))\n"
   ]
  },
  {
   "cell_type": "markdown",
   "id": "db2bf0f7",
   "metadata": {
    "id": "db2bf0f7"
   },
   "source": [
    "### 4. Write a Python program to solve quadratic equation?"
   ]
  },
  {
   "cell_type": "code",
   "execution_count": 17,
   "id": "61ba512a",
   "metadata": {},
   "outputs": [
    {
     "name": "stdout",
     "output_type": "stream",
     "text": [
      "The roots are\n",
      "(-12+0j)\n",
      "(2+0j)\n"
     ]
    }
   ],
   "source": [
    "#using cmath module\n",
    "import cmath\n",
    "  \n",
    "a = 1\n",
    "b = 10\n",
    "c = -24\n",
    "  \n",
    "# finding  the discriminant\n",
    "dis = (b**2) - (4 * a*c)\n",
    "  \n",
    "# find two results\n",
    "root1 = (-b-cmath.sqrt(dis))/(2 * a)\n",
    "root2 = (-b + cmath.sqrt(dis))/(2 * a)\n",
    "  \n",
    "\n",
    "print('The roots are')\n",
    "print(root1)\n",
    "print(root2)"
   ]
  },
  {
   "cell_type": "markdown",
   "id": "f70f74c9",
   "metadata": {
    "id": "f70f74c9"
   },
   "source": [
    "### 5. Write a Python program to swap two variables without temp variable?"
   ]
  },
  {
   "cell_type": "code",
   "execution_count": 14,
   "id": "8493acd4",
   "metadata": {},
   "outputs": [
    {
     "name": "stdout",
     "output_type": "stream",
     "text": [
      "Enter the first number10\n",
      "Enter the second number13\n",
      "The value of a after swapping: 13\n",
      "The value of b after swapping: 10\n"
     ]
    }
   ],
   "source": [
    "a=int(input(\"Enter the first number\"))\n",
    "b=int(input(\"Enter the second number\"))\n",
    "\n",
    "a,b=b,a\n",
    "\n",
    "print(f\"The value of a after swapping: {a}\")\n",
    "print(f\"The value of b after swapping: {b}\")"
   ]
  },
  {
   "cell_type": "code",
   "execution_count": null,
   "id": "b8834b96",
   "metadata": {},
   "outputs": [],
   "source": []
  }
 ],
 "metadata": {
  "colab": {
   "name": "Programming Assignment_2 (1).ipynb",
   "provenance": []
  },
  "kernelspec": {
   "display_name": "Python 3 (ipykernel)",
   "language": "python",
   "name": "python3"
  },
  "language_info": {
   "codemirror_mode": {
    "name": "ipython",
    "version": 3
   },
   "file_extension": ".py",
   "mimetype": "text/x-python",
   "name": "python",
   "nbconvert_exporter": "python",
   "pygments_lexer": "ipython3",
   "version": "3.9.12"
  }
 },
 "nbformat": 4,
 "nbformat_minor": 5
}
