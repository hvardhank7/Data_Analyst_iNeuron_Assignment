{
 "cells": [
  {
   "cell_type": "markdown",
   "id": "637b47a5",
   "metadata": {
    "id": "637b47a5"
   },
   "source": [
    "## Programming Assignment_1\n",
    "-------------"
   ]
  },
  {
   "cell_type": "markdown",
   "id": "0c647dbe",
   "metadata": {
    "id": "0c647dbe"
   },
   "source": [
    "### 1. Write a Python program to print \"Hello Python\"?"
   ]
  },
  {
   "cell_type": "code",
   "execution_count": 1,
   "id": "84s1afqnJXPX",
   "metadata": {
    "id": "84s1afqnJXPX"
   },
   "outputs": [
    {
     "name": "stdout",
     "output_type": "stream",
     "text": [
      "Hello Python\n"
     ]
    }
   ],
   "source": [
    "print(\"Hello Python\")"
   ]
  },
  {
   "cell_type": "markdown",
   "id": "fc18a6cd",
   "metadata": {
    "id": "fc18a6cd"
   },
   "source": [
    "### 2. Write a Python program to do arithmetical operations addition and division.?\n"
   ]
  },
  {
   "cell_type": "code",
   "execution_count": 2,
   "id": "Hu7le8TAJP4R",
   "metadata": {
    "id": "Hu7le8TAJP4R"
   },
   "outputs": [
    {
     "name": "stdout",
     "output_type": "stream",
     "text": [
      "Enter the first number5\n",
      "Enter the second number10\n",
      "Additon of a and b is 15.0 and Division of a and b is 0.5\n"
     ]
    }
   ],
   "source": [
    "a=float(input(\"Enter the first number\"))\n",
    "b=float(input(\"Enter the second number\"))\n",
    "addition = a+b\n",
    "division = a/b\n",
    "print(f\"Additon of a and b is {addition} and Division of a and b is {division}\")"
   ]
  },
  {
   "cell_type": "markdown",
   "id": "af6e2429",
   "metadata": {
    "id": "af6e2429"
   },
   "source": [
    "### 3. Write a Python program to find the area of a triangle?\n"
   ]
  },
  {
   "cell_type": "code",
   "execution_count": 3,
   "id": "4DCL4PQ6OBnC",
   "metadata": {
    "id": "4DCL4PQ6OBnC"
   },
   "outputs": [
    {
     "name": "stdout",
     "output_type": "stream",
     "text": [
      "Enter first side: 5\n",
      "Enter second side: 6\n",
      "Enter third side: 7\n",
      "Area of the triangle : 14.696938456699069\n"
     ]
    }
   ],
   "source": [
    "a = float(input('Enter first side: '))\n",
    "b = float(input('Enter second side: '))\n",
    "c = float(input('Enter third side: '))\n",
    "\n",
    "s = (a + b + c) / 2\n",
    "\n",
    "area = (s*(s-a)*(s-b)*(s-c)) ** 0.5\n",
    "print(f\"Area of the triangle : {area}\")"
   ]
  },
  {
   "cell_type": "markdown",
   "id": "b8140061",
   "metadata": {
    "id": "b8140061"
   },
   "source": [
    "### 4. Write a Python program to swap two variables?\n"
   ]
  },
  {
   "cell_type": "code",
   "execution_count": 4,
   "id": "Er6k0MTKOEOn",
   "metadata": {
    "id": "Er6k0MTKOEOn"
   },
   "outputs": [
    {
     "name": "stdout",
     "output_type": "stream",
     "text": [
      "Enter the first number5\n",
      "Enter the second number6\n",
      "The value of a after swapping: 6\n",
      "The value of b after swapping: 5\n"
     ]
    }
   ],
   "source": [
    "a=int(input(\"Enter the first number\"))\n",
    "b=int(input(\"Enter the second number\"))\n",
    "\n",
    "temp=a\n",
    "a=b\n",
    "b=temp\n",
    "\n",
    "'''we can also use a,b=b,a for swaping'''\n",
    "\n",
    "print(f\"The value of a after swapping: {a}\")\n",
    "print(f\"The value of b after swapping: {b}\")"
   ]
  },
  {
   "cell_type": "markdown",
   "id": "3f8054c1",
   "metadata": {
    "id": "3f8054c1"
   },
   "source": [
    "### 5. Write a Python program to generate a random number?\n"
   ]
  },
  {
   "cell_type": "code",
   "execution_count": 5,
   "id": "Gn8iNTfyOHQR",
   "metadata": {
    "id": "Gn8iNTfyOHQR"
   },
   "outputs": [
    {
     "name": "stdout",
     "output_type": "stream",
     "text": [
      "14\n"
     ]
    }
   ],
   "source": [
    "import random\n",
    "\n",
    "print(random.randint(0,99))\n"
   ]
  },
  {
   "cell_type": "code",
   "execution_count": null,
   "id": "66b80027",
   "metadata": {},
   "outputs": [],
   "source": []
  }
 ],
 "metadata": {
  "colab": {
   "name": "Programming Assignment_1 (2).ipynb",
   "provenance": []
  },
  "kernelspec": {
   "display_name": "Python 3 (ipykernel)",
   "language": "python",
   "name": "python3"
  },
  "language_info": {
   "codemirror_mode": {
    "name": "ipython",
    "version": 3
   },
   "file_extension": ".py",
   "mimetype": "text/x-python",
   "name": "python",
   "nbconvert_exporter": "python",
   "pygments_lexer": "ipython3",
   "version": "3.9.12"
  }
 },
 "nbformat": 4,
 "nbformat_minor": 5
}
